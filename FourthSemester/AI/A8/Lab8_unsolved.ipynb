{
 "cells": [
  {
   "attachments": {},
   "cell_type": "markdown",
   "metadata": {},
   "source": [
    "# Lab 8: Evolutionary computation\n",
    "\n",
    "### Consider the following example:\n",
    "\n",
    "Determine the minimum of the function $f(x)= x_1^2+...+x_n^2$ with $x_i \\in [-5.12, 5.12]$, $i \\in \\overline{(1, n)}$\n",
    "\n",
    "We have an example of steady state genetic algorithm with:  representation an array of real numbers; 100 individuals; crossover $$child = \\alpha \\cdot (parent1 - parent2) + parent2 ;$$ mutation - reinitialise on a random position the individual's value."
   ]
  },
  {
   "cell_type": "code",
   "execution_count": 1,
   "metadata": {},
   "outputs": [
    {
     "name": "stdout",
     "output_type": "stream",
     "text": [
      "Result: The detected minimum point after 10000 iterations is f(-0.00 -0.00) = 0.00\n"
     ]
    }
   ],
   "source": [
    "\n",
    "\n",
    "from random import randint, random\n",
    "from operator import add\n",
    "from math import cos, pi\n",
    "\n",
    "\n",
    "def individual(length, vmin, vmax):\n",
    "    '''\n",
    "    Create a member of the population - an individual\n",
    "\n",
    "    length: the number of genes (components)\n",
    "    vmin: the minimum possible value \n",
    "    vmax: the maximum possible value \n",
    "    '''\n",
    "    return [ (random()*(vmax-vmin)+vmin) for x in range(length) ]\n",
    "    \n",
    "def population(count, length, vmin, vmax):\n",
    "    \"\"\"\n",
    "    Create a number of individuals (i.e. a population).\n",
    "\n",
    "    count: the number of individuals in the population\n",
    "    length: the number of values per individual\n",
    "    vmin: the minimum possible value \n",
    "    vmax: the maximum possible value \n",
    "    \"\"\"\n",
    "    return [ individual(length, vmin, vmax) for x in range(count) ]\n",
    "\n",
    "def fitness(individual):\n",
    "    \"\"\"\n",
    "    Determine the fitness of an individual. Lower is better.(min problem)\n",
    "    For this problem we have the Rastrigin function\n",
    "    \n",
    "    individual: the individual to evaluate\n",
    "    \"\"\"\n",
    "    n=len(individual)\n",
    "    f=0;\n",
    "    for i in range(n):\n",
    "        f=f+individual[i]*individual[i]\n",
    "    return f\n",
    "    \n",
    "def mutate(individual, pM, vmin, vmax): \n",
    "    '''\n",
    "    Performs a mutation on an individual with the probability of pM.\n",
    "    If the event will take place, at a random position a new value will be\n",
    "    generated in the interval [vmin, vmax]\n",
    "\n",
    "    individual:the individual to be mutated\n",
    "    pM: the probability the mutation to occure\n",
    "    vmin: the minimum possible value \n",
    "    vmax: the maximum possible value\n",
    "    '''\n",
    "    if pM > random():\n",
    "            p = randint(0, len(individual)-1)\n",
    "            individual[p] = random()*(vmax-vmin)+vmin\n",
    "    return individual\n",
    "    \n",
    "def crossover(parent1, parent2):\n",
    "    '''\n",
    "    crossover between 2 parents\n",
    "    '''\n",
    "    child=[]\n",
    "    alpha=random()\n",
    "    for x in range(len(parent1)):\n",
    "        child.append(alpha*(parent1[x]-parent2[x])+parent2[x])\n",
    "    return child\n",
    "\n",
    "def iteration(pop, pM, vmin, vmax):\n",
    "    '''\n",
    "    an iteration\n",
    "\n",
    "    pop: the current population\n",
    "    pM: the probability the mutation to occure\n",
    "    vmin: the minimum possible value \n",
    "    vmax: the maximum possible value\n",
    "    '''\n",
    "    i1=randint(0,len(pop)-1)\n",
    "    i2=randint(0,len(pop)-1)\n",
    "    if (i1!=i2):\n",
    "        c=crossover(pop[i1],pop[i2])\n",
    "        c=mutate(c, pM, vmin, vmax)\n",
    "        f1=fitness(pop[i1])\n",
    "        f2=fitness(pop[i2])\n",
    "        '''\n",
    "        the repeated evaluation of the parents can be avoided\n",
    "        if  next to the values stored in the individuals we \n",
    "        keep also their fitnesses \n",
    "        '''\n",
    "        fc=fitness(c)\n",
    "        if(f1>f2) and (f1>fc):\n",
    "            pop[i1]=c\n",
    "        if(f2>f1) and (f2>fc):\n",
    "            pop[i2]=c\n",
    "    return pop\n",
    "\n",
    "def main(noIteratii=10000):\n",
    "    #PARAMETERS:\n",
    "    \n",
    "    #population size\n",
    "    dimPopulation = 100\n",
    "    #individual size\n",
    "    dimIndividual = 2\n",
    "    #the boundries of the search interval\n",
    "    vmin = -5.12\n",
    "    vmax = 5.12\n",
    "    #the mutation probability\n",
    "    pM=0.01\n",
    "    \n",
    "    P = population(dimPopulation, dimIndividual, vmin, vmax)\n",
    "    for i in range(noIteratii):\n",
    "        P = iteration(P, pM, vmin, vmax)\n",
    "\n",
    "    #print the best individual\n",
    "    graded = [ (fitness(x), x) for x in P]\n",
    "    graded =  sorted(graded)\n",
    "    result=graded[0]\n",
    "    fitnessOptim=result[0]\n",
    "    individualOptim=result[1]\n",
    "    print('Result: The detected minimum point after %d iterations is f(%3.2f %3.2f) = %3.2f'% \\\n",
    "          (noIteratii,individualOptim[0],individualOptim[1], fitnessOptim) )\n",
    "        \n",
    "main()"
   ]
  },
  {
   "attachments": {},
   "cell_type": "markdown",
   "metadata": {},
   "source": [
    "Exercise 1:  Construct a similar algorithm to the one provided as an example for the Bukin function N.6 (search the internet for this function).\n"
   ]
  },
  {
   "cell_type": "code",
   "execution_count": 15,
   "metadata": {},
   "outputs": [
    {
     "name": "stdout",
     "output_type": "stream",
     "text": [
      "Result: The detected minimum point after 10000 iterations is f(-3.16, 0.10) = 0.07\n"
     ]
    }
   ],
   "source": [
    "from random import randint, random\n",
    "from math import sqrt, fabs\n",
    "\n",
    "def individual():\n",
    "    '''\n",
    "    Create an individual representing a point in the search space.\n",
    "    For Bukin function N.6, an individual consists of two coordinates (x, y).\n",
    "    '''\n",
    "    return [random() * 15 - 10, random() * 15 - 5]\n",
    "\n",
    "def population(count):\n",
    "    \"\"\"\n",
    "    Create a population of individuals.\n",
    "\n",
    "    count: the number of individuals in the population\n",
    "    \"\"\"\n",
    "    return [individual() for _ in range(count)]\n",
    "\n",
    "def fitness(individual):\n",
    "    \"\"\"\n",
    "    Determine the fitness of an individual for the Bukin function N.6.\n",
    "    Lower is better (minimization problem).\n",
    "\n",
    "    individual: the individual to evaluate\n",
    "    \"\"\"\n",
    "    x, y = individual[0], individual[1]\n",
    "    return 100 * sqrt(fabs(y - 0.01 * x ** 2)) + 0.01 * fabs(x + 10)\n",
    "\n",
    "def mutate(individual):\n",
    "    '''\n",
    "    Perform mutation on an individual.\n",
    "\n",
    "    individual: the individual to be mutated\n",
    "    '''\n",
    "    for i in range(len(individual)):\n",
    "        if random() < 0.1:  # Mutation probability\n",
    "            individual[i] += random() * 2 - 1  # Add a small random value\n",
    "    return individual\n",
    "\n",
    "def crossover(parent1, parent2):\n",
    "    '''\n",
    "    Perform crossover between two parents to produce a child.\n",
    "\n",
    "    parent1: the first parent\n",
    "    parent2: the second parent\n",
    "    '''\n",
    "    child = [(p1 + p2) / 2 for p1, p2 in zip(parent1, parent2)]\n",
    "    return child\n",
    "\n",
    "def iteration(pop):\n",
    "    '''\n",
    "    Perform one iteration of the evolutionary algorithm.\n",
    "\n",
    "    pop: the current population\n",
    "    '''\n",
    "    # Select two parents\n",
    "    parent1 = pop[randint(0, len(pop) - 1)]\n",
    "    parent2 = pop[randint(0, len(pop) - 1)]\n",
    "    \n",
    "    # Create a child through crossover\n",
    "    child = crossover(parent1, parent2)\n",
    "    \n",
    "    # Mutate the child\n",
    "    child = mutate(child)\n",
    "    \n",
    "    # Replace a random individual from the population if the child is better\n",
    "    if fitness(child) < fitness(pop[randint(0, len(pop) - 1)]):\n",
    "        pop[randint(0, len(pop) - 1)] = child\n",
    "    \n",
    "    return pop\n",
    "\n",
    "def main(num_iterations=10000):\n",
    "    # Parameters\n",
    "    population_size = 100\n",
    "    \n",
    "    # Initialize population\n",
    "    pop = population(population_size)\n",
    "    \n",
    "    # Perform iterations\n",
    "    for i in range(num_iterations):\n",
    "        pop = iteration(pop)\n",
    "    \n",
    "    # Print the best individual found\n",
    "    best_individual = min(pop, key=fitness)\n",
    "    best_fitness = fitness(best_individual)\n",
    "    print(f'Result: The detected minimum point after {num_iterations} iterations is f({best_individual[0]:.2f}, {best_individual[1]:.2f}) = {best_fitness:.2f}')\n",
    "\n",
    "\n",
    "main()\n"
   ]
  },
  {
   "attachments": {},
   "cell_type": "markdown",
   "metadata": {},
   "source": [
    "Consider the knapsack problem:\n",
    "\n",
    "Consider a Knapsack with a total volum equal with $V_{max}$.\n",
    "\n",
    "There are $n$ objects, with values $(p_i)_{n}$ and volumes $(v_i)_n$.\n",
    "\n",
    "Solve this problem using a generationist Genetic Algorithm, with a binary representation.\n",
    "\n",
    "Exercise 2: Initialization\n",
    "Objective: Implement the initialization step of a genetic algorithm."
   ]
  },
  {
   "cell_type": "code",
   "execution_count": 1,
   "metadata": {},
   "outputs": [
    {
     "name": "stdout",
     "output_type": "stream",
     "text": [
      "[[0, 1, 0, 1, 0, 1, 1, 1], [1, 1, 1, 1, 0, 1, 1, 0], [0, 1, 0, 1, 0, 1, 0, 1], [0, 0, 0, 0, 0, 0, 1, 1], [0, 1, 0, 1, 0, 0, 0, 1], [1, 1, 0, 1, 1, 0, 0, 1], [1, 1, 0, 1, 0, 0, 1, 0], [0, 0, 1, 1, 0, 1, 0, 0], [1, 1, 1, 0, 0, 0, 0, 1], [1, 0, 0, 0, 1, 1, 0, 1], [1, 1, 1, 0, 1, 1, 1, 0], [1, 0, 1, 1, 0, 0, 0, 1], [1, 1, 0, 0, 0, 1, 0, 1], [0, 0, 0, 1, 1, 1, 0, 1], [0, 1, 0, 1, 1, 0, 1, 1], [0, 0, 0, 1, 1, 0, 1, 1], [1, 0, 0, 1, 0, 1, 0, 0], [0, 0, 1, 0, 0, 0, 0, 1], [0, 1, 0, 0, 0, 0, 0, 1], [1, 0, 1, 0, 1, 0, 1, 1], [0, 0, 0, 0, 0, 0, 1, 0], [0, 1, 0, 1, 1, 1, 0, 0], [0, 1, 1, 1, 1, 1, 0, 0], [1, 1, 0, 1, 0, 1, 0, 0], [0, 0, 1, 0, 0, 1, 0, 0], [0, 1, 0, 0, 0, 0, 1, 1], [1, 1, 0, 1, 1, 1, 1, 1], [0, 1, 0, 1, 1, 0, 1, 1], [1, 1, 0, 0, 1, 0, 0, 1], [0, 0, 1, 0, 0, 0, 0, 1], [1, 1, 0, 1, 0, 1, 1, 0], [0, 0, 0, 1, 1, 0, 0, 0], [1, 1, 1, 1, 0, 0, 0, 0], [0, 1, 1, 1, 1, 1, 0, 0], [0, 1, 0, 1, 1, 0, 0, 1], [0, 1, 1, 1, 1, 1, 1, 1], [0, 0, 1, 1, 0, 1, 1, 1], [1, 0, 1, 0, 0, 0, 1, 0], [0, 0, 1, 0, 1, 1, 0, 1], [1, 0, 1, 0, 0, 0, 0, 1], [0, 0, 1, 1, 1, 0, 0, 0], [1, 0, 1, 0, 0, 1, 1, 0], [0, 0, 1, 0, 0, 1, 0, 1], [1, 1, 0, 1, 0, 1, 0, 0], [1, 1, 0, 1, 0, 1, 1, 1], [1, 1, 1, 0, 0, 1, 0, 1], [0, 1, 1, 0, 1, 0, 0, 1], [0, 0, 1, 1, 1, 0, 0, 1], [1, 0, 1, 1, 0, 0, 0, 1], [0, 1, 0, 1, 0, 1, 0, 0], [0, 0, 1, 0, 1, 0, 1, 1], [0, 1, 0, 1, 0, 1, 1, 0], [1, 1, 0, 1, 0, 1, 0, 0], [0, 0, 0, 0, 1, 0, 1, 0], [0, 1, 0, 0, 1, 1, 1, 1], [0, 1, 0, 1, 0, 0, 0, 1], [1, 0, 1, 0, 1, 0, 1, 1], [0, 0, 0, 0, 1, 0, 1, 0], [1, 0, 0, 0, 1, 1, 1, 0], [1, 0, 0, 0, 1, 0, 1, 1], [0, 0, 0, 0, 0, 0, 0, 1], [0, 0, 0, 0, 0, 0, 0, 1], [1, 0, 1, 0, 1, 0, 1, 1], [0, 0, 0, 1, 0, 1, 1, 0], [0, 0, 0, 0, 0, 0, 0, 1], [0, 1, 0, 0, 0, 1, 0, 0], [1, 0, 1, 1, 0, 0, 1, 0], [1, 0, 0, 1, 1, 0, 1, 1], [0, 0, 1, 0, 0, 1, 1, 0], [1, 1, 0, 1, 0, 1, 1, 1], [0, 0, 1, 0, 0, 1, 0, 1], [0, 0, 0, 1, 0, 1, 1, 0], [1, 1, 1, 0, 1, 1, 1, 1], [0, 1, 1, 1, 0, 1, 0, 0], [1, 0, 0, 0, 0, 0, 0, 0], [1, 0, 1, 0, 0, 0, 1, 0], [0, 0, 0, 0, 1, 1, 0, 0], [1, 0, 0, 1, 1, 1, 1, 0], [1, 1, 1, 0, 1, 0, 0, 1], [1, 1, 0, 0, 0, 1, 1, 0], [1, 0, 0, 1, 0, 1, 1, 0], [1, 1, 1, 1, 1, 0, 0, 1], [1, 0, 0, 0, 1, 1, 1, 0], [0, 1, 0, 0, 0, 1, 1, 1], [0, 1, 0, 1, 1, 0, 0, 0], [0, 1, 1, 0, 1, 0, 1, 0], [1, 0, 0, 1, 1, 0, 0, 0], [0, 1, 1, 1, 0, 1, 0, 1], [0, 1, 0, 1, 1, 1, 1, 1], [1, 1, 0, 1, 1, 1, 0, 0], [0, 1, 0, 0, 0, 0, 1, 1], [0, 1, 0, 1, 0, 1, 0, 0], [0, 0, 0, 0, 1, 1, 0, 0], [0, 1, 0, 1, 0, 1, 0, 0], [0, 0, 0, 0, 0, 0, 0, 0], [0, 0, 1, 0, 1, 0, 1, 1], [1, 0, 1, 0, 0, 0, 0, 0], [1, 0, 1, 0, 0, 1, 1, 1], [1, 0, 1, 1, 1, 1, 1, 0], [1, 1, 0, 0, 0, 0, 0, 1]]\n"
     ]
    }
   ],
   "source": [
    "import random\n",
    "\n",
    "def initialize_population(population_size, chromosome_length):\n",
    "    \"\"\"\n",
    "    Initialize the population for a genetic algorithm.\n",
    "\n",
    "    Args:\n",
    "        population_size: Number of individuals in the population.\n",
    "        chromosome_length: Length of each individual's chromosome.\n",
    "\n",
    "    Returns:\n",
    "        List of individuals (each represented as a list of genes).\n",
    "    \"\"\"\n",
    "    population = []\n",
    "    for _ in range(population_size):\n",
    "        individual = [random.randint(0, 1) for _ in range(chromosome_length)]\n",
    "        population.append(individual)\n",
    "    return population\n",
    "\n",
    "# Test the initialization step\n",
    "population_size = 100\n",
    "chromosome_length = 8\n",
    "population = initialize_population(population_size, chromosome_length)\n",
    "print(population)\n"
   ]
  },
  {
   "attachments": {},
   "cell_type": "markdown",
   "metadata": {},
   "source": [
    "Exercise 3: Fitness Evaluation\n",
    "\n",
    "Objective: Implement the fitness evaluation step of a genetic algorithm."
   ]
  },
  {
   "cell_type": "code",
   "execution_count": 5,
   "metadata": {},
   "outputs": [
    {
     "name": "stdout",
     "output_type": "stream",
     "text": [
      "[21, 10, 21, 12, 0, 0, 0, 0, 0, 0, 15, 0, 15, 11, 19, 22, 21, 18, 0, 21, 15, 12, 18, 18, 19, 0, 0, 17, 20, 13, 12, 7, 6, 19, 15, 0, 0, 6, 0, 0, 12, 19, 5, 0, 21, 0, 7, 14, 17, 2, 12, 10, 21, 0, 13, 0, 9, 19, 0, 0, 11, 15, 10, 0, 10, 20, 17, 0, 5, 19, 21, 9, 22, 11, 18, 16, 19, 0, 10, 0, 11, 3, 11, 6, 11, 0, 0, 5, 15, 8, 19, 0, 0, 10, 0, 0, 13, 20, 13, 14]\n"
     ]
    }
   ],
   "source": [
    "def evaluate_fitness(population, values, volumes, vmax):\n",
    "    \"\"\"\n",
    "    Evaluate the fitness of each individual in the population for the knapsack problem.\n",
    "\n",
    "    Args:\n",
    "        population: List of individuals (each represented as a binary string).\n",
    "        values: List of values corresponding to each object.\n",
    "        volumes: List of volumes corresponding to each object.\n",
    "        vmax: Maximum volume of the knapsack.\n",
    "\n",
    "    Returns:\n",
    "        List of fitness scores corresponding to each individual in the population.\n",
    "    \"\"\"\n",
    "    fitness_scores = []\n",
    "    for individual in population:\n",
    "        total_value = 0\n",
    "        total_volume = 0\n",
    "        for i in range(len(individual)):\n",
    "            if individual[i] == 1:\n",
    "                total_value += values[i]\n",
    "                total_volume += volumes[i]\n",
    "        # Penalize if total volume exceeds maximum volume\n",
    "        if total_volume > vmax:\n",
    "            total_value = 0\n",
    "        fitness_scores.append(total_value)\n",
    "    return fitness_scores\n",
    "\n",
    "# Test the fitness evaluation step\n",
    "population_size = 100\n",
    "chromosome_length = 8\n",
    "population = initialize_population(population_size, chromosome_length)\n",
    "\n",
    "\n",
    "values = [5, 3, 7, 2, 8, 4, 6, 1]\n",
    "volumes = [2, 1, 3, 1, 4, 2, 3, 1]\n",
    "vmax = 10  # Maximum volume of the knapsack\n",
    "\n",
    "fitness_scores = evaluate_fitness(population, values, volumes, vmax)\n",
    "print(fitness_scores)\n",
    "\n"
   ]
  },
  {
   "attachments": {},
   "cell_type": "markdown",
   "metadata": {},
   "source": [
    "Exercise 4: Selection\n",
    "\n",
    "Objective: Implement the selection step of a genetic algorithm."
   ]
  },
  {
   "cell_type": "code",
   "execution_count": 10,
   "metadata": {},
   "outputs": [
    {
     "name": "stdout",
     "output_type": "stream",
     "text": [
      "([1, 0, 0, 1, 0, 1, 0, 1], [1, 0, 0, 0, 0, 0, 0, 0])\n"
     ]
    }
   ],
   "source": [
    "def select_parents(population, fitness_scores):\n",
    "    \"\"\"\n",
    "    Select two parents from the population based on their fitness scores using roulette wheel selection.\n",
    "\n",
    "    Args:\n",
    "        population: List of individuals (each represented as a binary string).\n",
    "        fitness_scores: List of fitness scores corresponding to each individual.\n",
    "\n",
    "    Returns:\n",
    "        Two selected parents (each represented as a binary string).\n",
    "    \"\"\"\n",
    "    total_fitness = sum(fitness_scores)\n",
    "    if total_fitness == 0:\n",
    "        # If total fitness is zero, all fitness scores are zero, \n",
    "        # so select parents randomly\n",
    "        parent1 = random.choice(population)\n",
    "        parent2 = random.choice(population)\n",
    "    else:\n",
    "        probabilities = [score / total_fitness for score in fitness_scores]\n",
    "        parent1 = random.choices(population, weights=probabilities)[0]\n",
    "        parent2 = random.choices(population, weights=probabilities)[0]\n",
    "    \n",
    "    return parent1, parent2\n",
    "parents=select_parents(population,fitness_scores)\n",
    "print(parents)"
   ]
  },
  {
   "attachments": {},
   "cell_type": "markdown",
   "metadata": {},
   "source": [
    "Exercise 5: Crossover\n",
    "\n",
    "Objective: Implement the crossover step of a genetic algorithm."
   ]
  },
  {
   "cell_type": "code",
   "execution_count": 11,
   "metadata": {},
   "outputs": [
    {
     "name": "stdout",
     "output_type": "stream",
     "text": [
      "Offspring: ([1, 0, 0, 1, 0, 0, 0, 0], [1, 0, 0, 0, 0, 1, 0, 1])\n"
     ]
    }
   ],
   "source": [
    "def crossover(parents):\n",
    "    \"\"\"\n",
    "    Create two new offspring by combining the genetic information of the parents using single-point crossover.\n",
    "\n",
    "    Args:\n",
    "        parents: Tuple containing two parents (each represented as a binary string).\n",
    "\n",
    "    Returns:\n",
    "        List of two new offspring (each represented as a binary string).\n",
    "    \"\"\"\n",
    "    parent1, parent2 = parents\n",
    "    crossover_point = random.randint(1, len(parent1) - 1)  # Randomly select crossover point\n",
    "\n",
    "    offspring1 = parent1[:crossover_point] + parent2[crossover_point:]\n",
    "    offspring2 = parent2[:crossover_point] + parent1[crossover_point:]\n",
    "\n",
    "    return offspring1, offspring2\n",
    "\n",
    "# Test the crossover step\n",
    "offspring = crossover(parents)\n",
    "print(\"Offspring:\", offspring)\n"
   ]
  },
  {
   "attachments": {},
   "cell_type": "markdown",
   "metadata": {},
   "source": [
    "Exercise 6: Mutation\n",
    "\n",
    "Objective: Implement the mutation step of a genetic algorithm."
   ]
  },
  {
   "cell_type": "code",
   "execution_count": 12,
   "metadata": {},
   "outputs": [
    {
     "name": "stdout",
     "output_type": "stream",
     "text": [
      "Mutated offspring: [[1, 0, 0, 1, 0, 1, 0, 0], [0, 0, 0, 0, 1, 0, 0, 1]]\n"
     ]
    }
   ],
   "source": [
    "def mutate(chromosome, mutation_rate):\n",
    "    \"\"\"\n",
    "    Mutate the chromosome by randomly flipping bits.\n",
    "\n",
    "    Args:\n",
    "        chromosome: List representing the chromosome (binary string).\n",
    "        mutation_rate: Probability of mutation for each bit.\n",
    "\n",
    "    Returns:\n",
    "        Mutated chromosome.\n",
    "    \"\"\"\n",
    "    mutated_chromosome = []\n",
    "    for gene in chromosome:\n",
    "        if random.random() < mutation_rate:\n",
    "            mutated_gene = 1 - gene  # Flip the bit (0 to 1 or 1 to 0)\n",
    "        else:\n",
    "            mutated_gene = gene\n",
    "        mutated_chromosome.append(mutated_gene)\n",
    "    return mutated_chromosome\n",
    "\n",
    "# Test the mutation step\n",
    "mutation_rate = 0.1\n",
    "mutated_offspring = [mutate(child, mutation_rate) for child in offspring]\n",
    "print(\"Mutated offspring:\", mutated_offspring)\n",
    "\n",
    "\n"
   ]
  },
  {
   "attachments": {},
   "cell_type": "markdown",
   "metadata": {},
   "source": [
    "Exercise 7: Complete Genetic Algorithm\n",
    "\n",
    "Objective: Combine all the steps of a genetic algorithm to solve a specific problem."
   ]
  },
  {
   "cell_type": "code",
   "execution_count": 13,
   "metadata": {},
   "outputs": [
    {
     "name": "stdout",
     "output_type": "stream",
     "text": [
      "[[0, 1, 1, 1, 0, 0, 1, 1], [0, 1, 1, 1, 0, 1, 1, 1]]\n"
     ]
    }
   ],
   "source": [
    "def genetic_algorithm(population_size, chromosome_length, generations, mutation_rate, values, volumes, vmax):\n",
    "    \"\"\"\n",
    "    Complete genetic algorithm to solve a specific problem (e.g., knapsack problem).\n",
    "\n",
    "    Args:\n",
    "        population_size: Number of individuals in the population.\n",
    "        chromosome_length: Length of each individual's chromosome.\n",
    "        generations: Number of generations to run the genetic algorithm.\n",
    "        mutation_rate: Probability of mutation for each bit.\n",
    "        values: List of values corresponding to each object.\n",
    "        volumes: List of volumes corresponding to each object.\n",
    "        vmax: Maximum volume of the knapsack.\n",
    "\n",
    "    Returns:\n",
    "        Final population after running the genetic algorithm.\n",
    "    \"\"\"\n",
    "    # Initialize the population\n",
    "    population = initialize_population(population_size, chromosome_length)\n",
    "    \n",
    "    for _ in range(generations):\n",
    "        # Fitness evaluation\n",
    "        fitness_scores = evaluate_fitness(population, values, volumes, vmax)\n",
    "        \n",
    "        # Selection\n",
    "        selected_parents = select_parents(population, fitness_scores)\n",
    "\n",
    "        # Crossover\n",
    "        offspring = crossover(selected_parents)\n",
    "\n",
    "        # Mutation\n",
    "        mutated_offspring = [mutate(child, mutation_rate) for child in offspring]\n",
    "\n",
    "        # Replace the population with the new generation\n",
    "        population = mutated_offspring\n",
    "\n",
    "    return population\n",
    "\n",
    "# Test the complete genetic algorithm\n",
    "population_size = 10\n",
    "chromosome_length = 8\n",
    "generations = 100\n",
    "mutation_rate = 0.1\n",
    "values = [5, 3, 7, 2, 8, 4, 6, 1]\n",
    "volumes = [2, 1, 3, 1, 4, 2, 3, 1]\n",
    "vmax = 10\n",
    "\n",
    "final_population = genetic_algorithm(population_size, chromosome_length, generations, mutation_rate, values, volumes, vmax)\n",
    "print(final_population)\n",
    "\n",
    "\n"
   ]
  },
  {
   "attachments": {},
   "cell_type": "markdown",
   "metadata": {},
   "source": [
    "Exercise 8: Extract the result from the final population\n",
    "\n",
    "Objective: Get the best individual from the final population.\n"
   ]
  },
  {
   "cell_type": "code",
   "execution_count": 14,
   "metadata": {},
   "outputs": [
    {
     "name": "stdout",
     "output_type": "stream",
     "text": [
      "Best individual: [0, 1, 1, 1, 0, 0, 1, 1]\n",
      "Fitness score: 19\n"
     ]
    }
   ],
   "source": [
    "def get_best_individual(population, values, volumes, vmax):\n",
    "    \"\"\"\n",
    "    Get the best individual (solution) from the final population based on fitness evaluation.\n",
    "\n",
    "    Args:\n",
    "        population: List of individuals (each represented as a binary string).\n",
    "        values: List of values corresponding to each object.\n",
    "        volumes: List of volumes corresponding to each object.\n",
    "        vmax: Maximum volume of the knapsack.\n",
    "\n",
    "    Returns:\n",
    "        Best individual (binary string) and its fitness score.\n",
    "    \"\"\"\n",
    "    best_individual = None\n",
    "    best_fitness = -1  # Initialize with a value that ensures any fitness score will be greater\n",
    "\n",
    "    for individual in population:\n",
    "        fitness = sum(values[i] for i in range(len(individual)) if individual[i] == 1)\n",
    "        volume = sum(volumes[i] for i in range(len(individual)) if individual[i] == 1)\n",
    "        if volume <= vmax and fitness > best_fitness:\n",
    "            best_individual = individual\n",
    "            best_fitness = fitness\n",
    "\n",
    "    return best_individual, best_fitness\n",
    "\n",
    "\n",
    "best_individual, best_fitness = get_best_individual(final_population, values, volumes, vmax)\n",
    "\n",
    "print(\"Best individual:\", best_individual)\n",
    "print(\"Fitness score:\", best_fitness)\n",
    "\n"
   ]
  },
  {
   "cell_type": "code",
   "execution_count": null,
   "metadata": {},
   "outputs": [],
   "source": []
  }
 ],
 "metadata": {
  "kernel_info": {
   "name": "python"
  },
  "kernelspec": {
   "display_name": "Python 3 (ipykernel)",
   "language": "python",
   "name": "python3"
  },
  "language_info": {
   "codemirror_mode": {
    "name": "ipython",
    "version": 3
   },
   "file_extension": ".py",
   "mimetype": "text/x-python",
   "name": "python",
   "nbconvert_exporter": "python",
   "pygments_lexer": "ipython3",
   "version": "3.11.8"
  },
  "nteract": {
   "version": "nteract-front-end@1.0.0"
  }
 },
 "nbformat": 4,
 "nbformat_minor": 4
}
